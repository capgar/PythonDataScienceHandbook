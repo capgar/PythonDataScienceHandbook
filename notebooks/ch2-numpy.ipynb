{
 "cells": [
  {
   "cell_type": "code",
   "execution_count": 1,
   "metadata": {},
   "outputs": [
    {
     "name": "stdout",
     "output_type": "stream",
     "text": [
      "[0, 1, 2, 3, 4, 5, 6, 7, 8, 9]\n",
      "<class 'int'>\n",
      "['0', '1', '2', '3', '4', '5', '6', '7', '8', '9']\n",
      "<class 'str'>\n",
      "[True, '2', 3.0, 4, 'Aleksey']\n",
      "<class 'bool'>\n"
     ]
    }
   ],
   "source": [
    "# lists\n",
    "L = list(range(10))\n",
    "print(L)\n",
    "print(type(L[0]))\n",
    "\n",
    "L2 = list(str(c) for c in L)\n",
    "print(L2)\n",
    "print(type(L2[0]))\n",
    "\n",
    "L3 = [True, \"2\", 3.0, 4, \"Aleksey\"]\n",
    "print(L3)\n",
    "print(type(L3[0]))"
   ]
  },
  {
   "cell_type": "code",
   "execution_count": 2,
   "metadata": {},
   "outputs": [
    {
     "data": {
      "text/plain": [
       "array('i', [0, 1, 2, 3, 4, 5, 6, 7, 8, 9])"
      ]
     },
     "execution_count": 2,
     "metadata": {},
     "output_type": "execute_result"
    }
   ],
   "source": [
    "# a basic, fixed-type python array, created from a list\n",
    "import array\n",
    "A = array.array('i', L)\n",
    "A"
   ]
  },
  {
   "cell_type": "markdown",
   "metadata": {},
   "source": [
    "# NumPy arrays"
   ]
  },
  {
   "cell_type": "code",
   "execution_count": 3,
   "metadata": {},
   "outputs": [
    {
     "name": "stdout",
     "output_type": "stream",
     "text": [
      "[1 4 2 5 3]\n",
      "[ 3.14  4.    2.    3.  ]\n",
      "[ 1.  2.  3.  4.]\n",
      "[[2 3 4]\n",
      " [4 5 6]\n",
      " [6 7 8]]\n"
     ]
    }
   ],
   "source": [
    "# some numpy arrays\n",
    "import numpy as np\n",
    "\n",
    "# integer\n",
    "N = np.array([1, 4, 2, 5, 3])\n",
    "print(N)\n",
    "\n",
    "# upcast to float\n",
    "N = np.array([3.14, 4, 2, 3])\n",
    "print(N)\n",
    "\n",
    "# dtype to set type\n",
    "N = np.array([1, 2, 3, 4], dtype='float32')\n",
    "print(N)\n",
    "\n",
    "# 2-dimensional array\n",
    "N = np.array([range(i, i + 3) for i in [2, 4, 6]])\n",
    "print(N)"
   ]
  },
  {
   "cell_type": "code",
   "execution_count": 4,
   "metadata": {},
   "outputs": [
    {
     "name": "stdout",
     "output_type": "stream",
     "text": [
      "length-10 int array filled with zeros\n",
      "[0 0 0 0 0 0 0 0 0 0]\n",
      "3x5 float array filled with ones\n",
      "[[ 1.  1.  1.  1.  1.]\n",
      " [ 1.  1.  1.  1.  1.]\n",
      " [ 1.  1.  1.  1.  1.]]\n",
      "3x5 array fileed with pi\n",
      "[[ 3.14  3.14  3.14  3.14  3.14]\n",
      " [ 3.14  3.14  3.14  3.14  3.14]\n",
      " [ 3.14  3.14  3.14  3.14  3.14]]\n",
      "array filled with sequence stepped by 2\n",
      "[ 0  2  4  6  8 10 12 14 16 18]\n",
      "array of 5 values spaced from 0 to 1\n",
      "[ 0.    0.25  0.5   0.75  1.  ]\n",
      "3x3 array of uniformly distributed random values between 0 and 1\n",
      "[[ 0.19795286  0.89167977  0.88043207]\n",
      " [ 0.84015756  0.06856262  0.03735488]\n",
      " [ 0.78223191  0.30139713  0.22297309]]\n",
      "3x3 array of normally distributed random values with mean 0 and std 1\n",
      "[[ 1.89524283  1.08432045 -0.85227295]\n",
      " [-0.93286577  1.10965852  0.39260152]\n",
      " [-1.81093372 -0.18553971 -1.99938294]]\n",
      "3x3 array of random int in interval [0, 10)]\n",
      "[[4 2 1]\n",
      " [2 8 3]\n",
      " [2 5 3]]\n",
      "3x3 identity matrix\n",
      "[[ 1.  0.  0.]\n",
      " [ 0.  1.  0.]\n",
      " [ 0.  0.  1.]]\n",
      "uninitialized array of 3 integers\n",
      "[ 1.  1.  1.]\n"
     ]
    }
   ],
   "source": [
    "# NumPy routines to build arrays\n",
    "\n",
    "print('length-10 int array filled with zeros')\n",
    "print(np.zeros(10, dtype=int))\n",
    "\n",
    "print('3x5 float array filled with ones')\n",
    "print(np.ones((3,5), dtype=float))\n",
    "\n",
    "print('3x5 array fileed with pi')\n",
    "print(np.full((3, 5),3.14))\n",
    "\n",
    "print('array filled with sequence stepped by 2')\n",
    "print(np.arange(0, 20, 2))\n",
    "\n",
    "print('array of 5 values spaced from 0 to 1')\n",
    "print(np.linspace(0, 1, 5))\n",
    "\n",
    "print('3x3 array of uniformly distributed random values between 0 and 1')\n",
    "print(np.random.random((3, 3)))\n",
    "\n",
    "print('3x3 array of normally distributed random values with mean 0 and std 1')\n",
    "print(np.random.normal(0, 1, (3,3)))\n",
    "\n",
    "print('3x3 array of random int in interval [0, 10)]')\n",
    "print(np.random.randint(0, 10, (3, 3)))\n",
    "\n",
    "print('3x3 identity matrix')\n",
    "print(np.eye(3))\n",
    "\n",
    "print('uninitialized array of 3 integers')\n",
    "print(np.empty(3))"
   ]
  },
  {
   "cell_type": "code",
   "execution_count": 5,
   "metadata": {},
   "outputs": [
    {
     "name": "stdout",
     "output_type": "stream",
     "text": [
      "1d array:\n",
      "[5 0 3 3 7 9] \n",
      "\n",
      "3d array:\n",
      "[[[3 5 2 4 7]\n",
      "  [6 8 8 1 6]\n",
      "  [7 7 8 1 5]\n",
      "  [9 8 9 4 3]]\n",
      "\n",
      " [[0 3 5 0 2]\n",
      "  [3 8 1 3 3]\n",
      "  [3 7 0 1 9]\n",
      "  [9 0 4 7 3]]\n",
      "\n",
      " [[2 7 2 0 0]\n",
      "  [4 5 5 6 8]\n",
      "  [4 1 4 9 8]\n",
      "  [1 1 7 9 9]]] \n",
      "\n",
      "ndim: 3\n",
      "shape: (3, 4, 5)\n",
      "size: 60\n",
      "dtype: int64\n",
      "itemsize: 8 bytes\n",
      "nbytes: 480 bytes\n",
      "\n",
      "value at dim=1, row=3, col=3:\n",
      "1 \n",
      "\n",
      "trying to modify value to 9.999\n",
      "array is fixed type, so value was converted to int:\n",
      "9 \n",
      "\n"
     ]
    }
   ],
   "source": [
    "# random array, seeded so we always get the same result\n",
    "np.random.seed(0)\n",
    "\n",
    "print('1d array:')\n",
    "X1 = np.random.randint(10, size=6) #1d array\n",
    "print(X1,'\\n')\n",
    "\n",
    "print('3d array:')\n",
    "X3 = np.random.randint(10, size =(3, 4, 5)) #3d array\n",
    "print(X3,'\\n')\n",
    "\n",
    "print(\"ndim:\", X3.ndim)\n",
    "print(\"shape:\", X3.shape)\n",
    "print(\"size:\", X3.size)\n",
    "print(\"dtype:\", X3.dtype)\n",
    "print(\"itemsize:\", X3.itemsize, \"bytes\")\n",
    "print(\"nbytes:\", X3.nbytes, \"bytes\\n\")\n",
    "\n",
    "print('value at dim=1, row=3, col=3:')\n",
    "print(X3[1,2,3],'\\n')\n",
    "\n",
    "print('trying to modify value to 9.999')\n",
    "X3[1,2,3]=9.999\n",
    "print('array is fixed type, so value was converted to int:')\n",
    "print(X3[1,2,3],'\\n')"
   ]
  },
  {
   "cell_type": "markdown",
   "metadata": {},
   "source": [
    "# Sub-Arrays"
   ]
  },
  {
   "cell_type": "code",
   "execution_count": 6,
   "metadata": {},
   "outputs": [
    {
     "name": "stdout",
     "output_type": "stream",
     "text": [
      "Subarray of first 2 dimensions of X3\n",
      "[[[3 5 2 4 7]\n",
      "  [6 8 8 1 6]\n",
      "  [7 7 8 1 5]\n",
      "  [9 8 9 4 3]]\n",
      "\n",
      " [[0 3 5 0 2]\n",
      "  [3 8 1 3 3]\n",
      "  [3 7 0 9 9]\n",
      "  [9 0 4 7 3]]]\n",
      "\n",
      "Subarray of 2nd dimension of X3\n",
      "[[0 3 5 0 2]\n",
      " [3 8 1 3 3]\n",
      " [3 7 0 9 9]\n",
      " [9 0 4 7 3]]\n",
      "\n",
      "Reversing order of 2nd dim subarray\n",
      "[[3 7 4 0 9]\n",
      " [9 9 0 7 3]\n",
      " [3 3 1 8 3]\n",
      " [2 0 5 3 0]]\n",
      "\n",
      "3rd row of 2nd dim\n",
      "[3 7 0 9 9]\n",
      "\n",
      "Every other row of subarray, starting at index 1 (for example, to exclude garbage rows)\n",
      "[[3 8 1 3 3]\n",
      " [9 0 4 7 3]]\n",
      "\n",
      "2nd row of subarray\n",
      "[3 8 1 3 3]\n",
      "\n",
      "2nd column of subarray\n",
      "[3 8 7 0]\n"
     ]
    }
   ],
   "source": [
    "print('Subarray of first 2 dimensions of X3')\n",
    "print(X3[:2])\n",
    "\n",
    "print('\\nSubarray of 2nd dimension of X3')\n",
    "print(X3[1])\n",
    "\n",
    "print('\\nReversing order of 2nd dim subarray')\n",
    "print(X3[1,::-1,::-1])\n",
    "\n",
    "print('\\n3rd row of 2nd dim')\n",
    "print(X3[1,2])\n",
    "\n",
    "print('\\nEvery other row of subarray, starting at index 1 (for example, to exclude garbage rows)')\n",
    "print(X3[1,1::2])\n",
    "\n",
    "print('\\n2nd row of subarray')\n",
    "print(X3[1,1,:])\n",
    "\n",
    "print('\\n2nd column of subarray')\n",
    "print(X3[1,:,1])"
   ]
  },
  {
   "cell_type": "code",
   "execution_count": 7,
   "metadata": {},
   "outputs": [
    {
     "name": "stdout",
     "output_type": "stream",
     "text": [
      "subarrays are views, not copies\n",
      "3d array X3:\n",
      "[[[3 5 2 4 7]\n",
      "  [6 8 8 1 6]\n",
      "  [7 7 8 1 5]\n",
      "  [9 8 9 4 3]]\n",
      "\n",
      " [[0 3 5 0 2]\n",
      "  [3 8 1 3 3]\n",
      "  [3 7 0 9 9]\n",
      "  [9 0 4 7 3]]\n",
      "\n",
      " [[2 7 2 0 0]\n",
      "  [4 5 5 6 8]\n",
      "  [4 1 4 9 8]\n",
      "  [1 1 7 9 9]]]\n",
      "\n",
      "2x2 subarray of 2nd dim, as new array X2\n",
      "[[0 3]\n",
      " [3 8]]\n",
      "\n",
      "Changing first value of array X2\n",
      "[[99  3]\n",
      " [ 3  8]]\n",
      "\n",
      "Original array X3 has also been changed\n",
      "[[[ 3  5  2  4  7]\n",
      "  [ 6  8  8  1  6]\n",
      "  [ 7  7  8  1  5]\n",
      "  [ 9  8  9  4  3]]\n",
      "\n",
      " [[99  3  5  0  2]\n",
      "  [ 3  8  1  3  3]\n",
      "  [ 3  7  0  9  9]\n",
      "  [ 9  0  4  7  3]]\n",
      "\n",
      " [[ 2  7  2  0  0]\n",
      "  [ 4  5  5  6  8]\n",
      "  [ 4  1  4  9  8]\n",
      "  [ 1  1  7  9  9]]]\n",
      "\n",
      "Resetting original value\n",
      "0\n",
      "\n",
      "Creating copy of 2x2 array as X2copy and changing value:\n",
      "[[99  3]\n",
      " [ 3  8]]\n",
      "\n",
      "Original:\n",
      "[[0 3]\n",
      " [3 8]]\n"
     ]
    }
   ],
   "source": [
    "print('subarrays are views, not copies')\n",
    "print('3d array X3:')\n",
    "print(X3)\n",
    "\n",
    "print('\\n2x2 subarray of 2nd dim, as new array X2')\n",
    "X2 = X3[1,:2,:2]\n",
    "print(X2)\n",
    "\n",
    "# saving original value of X2[0,0]\n",
    "x = X2[0,0]\n",
    "\n",
    "print('\\nChanging first value of array X2')\n",
    "X2[0,0] = 99\n",
    "print(X2)\n",
    "\n",
    "print('\\nOriginal array X3 has also been changed')\n",
    "print(X3)\n",
    "\n",
    "print('\\nResetting original value')\n",
    "X3[1,0,0] = x\n",
    "print(X3[1,0,0])\n",
    "\n",
    "print('\\nCreating copy of 2x2 array as X2copy and changing value:')\n",
    "X2copy = X3[1,:2,:2].copy()\n",
    "X2copy[0,0] = 99\n",
    "print(X2copy)\n",
    "print('\\nOriginal:')\n",
    "print(X3[1,:2,:2])"
   ]
  },
  {
   "cell_type": "markdown",
   "metadata": {},
   "source": [
    "# Reshaping Arrays"
   ]
  },
  {
   "cell_type": "code",
   "execution_count": 8,
   "metadata": {},
   "outputs": [
    {
     "name": "stdout",
     "output_type": "stream",
     "text": [
      "Converting 1d array\n",
      "[1 2 3 4 5 6 7 8 9]\n",
      "\n",
      "into 3d array\n",
      "[[1 2 3]\n",
      " [4 5 6]\n",
      " [7 8 9]]\n",
      "\n",
      "1d slice of array\n",
      "[1 2 3]\n",
      "\n",
      "Creating a row vector of a 2d matrix using reshape\n",
      "[[1 2 3]]\n",
      "\n",
      "Creating a column vector using reshape\n",
      "[[1]\n",
      " [2]\n",
      " [3]]\n",
      "\n",
      "Creating a row vector using newaxis\n",
      "[[1 2 3]]\n",
      "\n",
      "Creating a column vector using newaxis\n",
      "[[1]\n",
      " [2]\n",
      " [3]]\n"
     ]
    }
   ],
   "source": [
    "# reshaping 1d array of 9 ints into a 2d 3x3 array\n",
    "print('Converting 1d array')\n",
    "x1 = np.arange(1,10)\n",
    "print(x1)\n",
    "print('\\ninto 3d array')\n",
    "x3 = x1.reshape((3, 3))\n",
    "print(x3)\n",
    "print('\\n1d slice of array')\n",
    "x = x3[0,:]\n",
    "print(x)\n",
    "\n",
    "print('\\nCreating a row vector of a 2d matrix using reshape')\n",
    "print(x.reshape((1,3)))\n",
    "print('\\nCreating a column vector using reshape')\n",
    "print(x.reshape((3,1)))\n",
    "\n",
    "print('\\nCreating a row vector using newaxis')\n",
    "print(x[np.newaxis, :])\n",
    "print('\\nCreating a column vector using newaxis')\n",
    "x = np.array([1,2,3])\n",
    "y = np.array([3,2,1])\n",
    "print(x[:,np.newaxis])"
   ]
  },
  {
   "cell_type": "markdown",
   "metadata": {},
   "source": [
    "# Concatenating Arrays"
   ]
  },
  {
   "cell_type": "code",
   "execution_count": 9,
   "metadata": {},
   "outputs": [
    {
     "data": {
      "text/plain": [
       "array([1, 2, 3, 3, 2, 1])"
      ]
     },
     "execution_count": 9,
     "metadata": {},
     "output_type": "execute_result"
    }
   ],
   "source": [
    "# concatenating 2 arrays\n",
    "x = np.array([1,2,3])\n",
    "y = np.array([3,2,1])\n",
    "np.concatenate([x,y])"
   ]
  },
  {
   "cell_type": "code",
   "execution_count": 10,
   "metadata": {},
   "outputs": [
    {
     "data": {
      "text/plain": [
       "array([1, 2, 3, 3, 2, 1, 9, 9, 9])"
      ]
     },
     "execution_count": 10,
     "metadata": {},
     "output_type": "execute_result"
    }
   ],
   "source": [
    "# concatenating 3 arrays\n",
    "z = np.array([9,9,9])\n",
    "np.concatenate([x,y,z])"
   ]
  },
  {
   "cell_type": "code",
   "execution_count": 11,
   "metadata": {},
   "outputs": [
    {
     "data": {
      "text/plain": [
       "array([[1, 2, 3],\n",
       "       [3, 2, 1],\n",
       "       [9, 9, 9]])"
      ]
     },
     "execution_count": 11,
     "metadata": {},
     "output_type": "execute_result"
    }
   ],
   "source": [
    "# concatenate a 2d array\n",
    "grid = np.array([x,y,z])\n",
    "grid"
   ]
  },
  {
   "cell_type": "code",
   "execution_count": 12,
   "metadata": {},
   "outputs": [
    {
     "data": {
      "text/plain": [
       "array([[1, 2, 3],\n",
       "       [3, 2, 1],\n",
       "       [9, 9, 9],\n",
       "       [1, 2, 3],\n",
       "       [3, 2, 1],\n",
       "       [9, 9, 9]])"
      ]
     },
     "execution_count": 12,
     "metadata": {},
     "output_type": "execute_result"
    }
   ],
   "source": [
    "# concatenate along x axis\n",
    "np.concatenate([grid, grid])"
   ]
  },
  {
   "cell_type": "code",
   "execution_count": 13,
   "metadata": {},
   "outputs": [
    {
     "data": {
      "text/plain": [
       "array([[1, 2, 3, 1, 2, 3],\n",
       "       [3, 2, 1, 3, 2, 1],\n",
       "       [9, 9, 9, 9, 9, 9]])"
      ]
     },
     "execution_count": 13,
     "metadata": {},
     "output_type": "execute_result"
    }
   ],
   "source": [
    "# concatenate along y axis (zero indexed)\n",
    "np.concatenate([grid, grid], axis=1)"
   ]
  },
  {
   "cell_type": "code",
   "execution_count": 14,
   "metadata": {},
   "outputs": [
    {
     "data": {
      "text/plain": [
       "array([[1, 2, 3],\n",
       "       [9, 8, 7],\n",
       "       [6, 5, 4]])"
      ]
     },
     "execution_count": 14,
     "metadata": {},
     "output_type": "execute_result"
    }
   ],
   "source": [
    "x = np.array([1,2,3])\n",
    "grid = np.array([[9,8,7],\n",
    "                 [6,5,4]])\n",
    "# concatenating arrays with mixed dimensions using vstack (vertical stack)\n",
    "np.vstack([x, grid])"
   ]
  },
  {
   "cell_type": "code",
   "execution_count": 15,
   "metadata": {},
   "outputs": [
    {
     "data": {
      "text/plain": [
       "array([[ 9,  8,  7, 99],\n",
       "       [ 6,  5,  4, 99]])"
      ]
     },
     "execution_count": 15,
     "metadata": {},
     "output_type": "execute_result"
    }
   ],
   "source": [
    "y = np.array([[99],\n",
    "              [99]])\n",
    "# concatenating arrays with mixed dimensions using hstack (horizontal stack)\n",
    "np.hstack([grid, y])"
   ]
  },
  {
   "cell_type": "markdown",
   "metadata": {},
   "source": [
    "# Splitting Arrays"
   ]
  },
  {
   "cell_type": "code",
   "execution_count": 16,
   "metadata": {},
   "outputs": [
    {
     "name": "stdout",
     "output_type": "stream",
     "text": [
      "[1 2 3] [99 99] [3 2 1]\n"
     ]
    }
   ],
   "source": [
    "x = [1,2,3,99,99,3,2,1]\n",
    "# use split to create new subarrays at index #s 3 and 5\n",
    "x1, x2, x3 = np.split(x, [3, 5])\n",
    "print(x1, x2, x3)\n",
    "# n splits results in n+1 subarrays"
   ]
  },
  {
   "cell_type": "code",
   "execution_count": 17,
   "metadata": {},
   "outputs": [
    {
     "name": "stdout",
     "output_type": "stream",
     "text": [
      "[[ 0  1  2  3]\n",
      " [ 4  5  6  7]\n",
      " [ 8  9 10 11]\n",
      " [12 13 14 15]]\n",
      "\n",
      "using vsplit to split on row index 2:\n",
      "[[0 1 2 3]\n",
      " [4 5 6 7]]\n",
      "[[ 8  9 10 11]\n",
      " [12 13 14 15]]\n",
      "\n",
      "using hsplit to split on column index 2:\n",
      "[[ 0  1]\n",
      " [ 4  5]\n",
      " [ 8  9]\n",
      " [12 13]]\n",
      "[[ 2  3]\n",
      " [ 6  7]\n",
      " [10 11]\n",
      " [14 15]]\n",
      "\n",
      "And dsplit will split along 3rd access\n"
     ]
    }
   ],
   "source": [
    "grid = np.arange(16).reshape((4,4))\n",
    "print(grid)\n",
    "\n",
    "print('\\nusing vsplit to split on row index 2:')\n",
    "upper,lower = np.vsplit(grid, [2])\n",
    "print(upper)\n",
    "print(lower)\n",
    "\n",
    "print('\\nusing hsplit to split on column index 2:')\n",
    "left, right = np.hsplit(grid, [2])\n",
    "print(left)\n",
    "print(right)\n",
    "\n",
    "print('\\nAnd dsplit will split along 3rd access')"
   ]
  },
  {
   "cell_type": "markdown",
   "metadata": {},
   "source": [
    "# Computation on NumPy Arrays: Universal Functions"
   ]
  },
  {
   "cell_type": "code",
   "execution_count": 18,
   "metadata": {},
   "outputs": [
    {
     "name": "stdout",
     "output_type": "stream",
     "text": [
      "x      = [0 1 2 3]\n",
      "x + 5  = [5 6 7 8]\n",
      "x - 5  = [-5 -4 -3 -2]\n",
      "x * 2  = [0 2 4 6]\n",
      "x / 2  = [ 0.   0.5  1.   1.5]\n",
      "x // 2 = [0 0 1 1]\n",
      "-x     = [ 0 -1 -2 -3]\n",
      "x ** 2 = [0 1 4 9]\n",
      "x % 2  = [0 1 0 1]\n"
     ]
    }
   ],
   "source": [
    "# array arithmetic\n",
    "x = np.arange(4)\n",
    "print('x      =', x )\n",
    "print('x + 5  =', x + 5)\n",
    "print('x - 5  =', x - 5)\n",
    "print('x * 2  =', x * 2)\n",
    "print('x / 2  =', x / 2)\n",
    "print('x // 2 =', x // 2) # floor division\n",
    "print('-x     =', -x)\n",
    "print('x ** 2 =', x ** 2)\n",
    "print('x % 2  =', x % 2) # modulus (remainder)\n",
    "\n",
    "# these are all wrappers for numpy functions\n",
    "# for example, + operator is a wrapper for np.add"
   ]
  },
  {
   "cell_type": "code",
   "execution_count": 19,
   "metadata": {},
   "outputs": [
    {
     "data": {
      "text/plain": [
       "array([2, 1, 0, 1, 2])"
      ]
     },
     "execution_count": 19,
     "metadata": {},
     "output_type": "execute_result"
    }
   ],
   "source": [
    "# absolute value\n",
    "x = np.array([-2, -1, 0, 1, 2])\n",
    "abs(x)"
   ]
  },
  {
   "cell_type": "code",
   "execution_count": 20,
   "metadata": {},
   "outputs": [
    {
     "name": "stdout",
     "output_type": "stream",
     "text": [
      "theta      = [ 0.          1.57079633  3.14159265]\n",
      "sin(theta) = [  0.00000000e+00   1.00000000e+00   1.22464680e-16]\n",
      "cos(theta) = [  1.00000000e+00   6.12323400e-17  -1.00000000e+00]\n",
      "tan(theta) = [  0.00000000e+00   1.63312394e+16  -1.22464680e-16]\n"
     ]
    }
   ],
   "source": [
    "# trigonometric functions\n",
    "# define an array of angles\n",
    "theta = np.linspace(0, np.pi, 3)\n",
    "print(\"theta      =\", theta)\n",
    "print(\"sin(theta) =\", np.sin(theta))\n",
    "print(\"cos(theta) =\", np.cos(theta))\n",
    "print(\"tan(theta) =\", np.tan(theta))"
   ]
  },
  {
   "cell_type": "code",
   "execution_count": 21,
   "metadata": {},
   "outputs": [
    {
     "name": "stdout",
     "output_type": "stream",
     "text": [
      "x         = [-1, 0, 1]\n",
      "arcsin(x) = [-1.57079633  0.          1.57079633]\n",
      "arccos(x) = [ 3.14159265  1.57079633  0.        ]\n",
      "arctan(x) = [-0.78539816  0.          0.78539816]\n"
     ]
    }
   ],
   "source": [
    "# inverse trigonometric functions\n",
    "x = [-1, 0, 1]\n",
    "print(\"x         =\", x)\n",
    "print(\"arcsin(x) =\", np.arcsin(x))\n",
    "print(\"arccos(x) =\", np.arccos(x))\n",
    "print(\"arctan(x) =\", np.arctan(x))"
   ]
  },
  {
   "cell_type": "code",
   "execution_count": 22,
   "metadata": {},
   "outputs": [
    {
     "name": "stdout",
     "output_type": "stream",
     "text": [
      "x   = [1, 2, 3]\n",
      "e^x = [  2.71828183   7.3890561   20.08553692]\n",
      "2^x = [ 2.  4.  8.]\n",
      "3^x = [ 3  9 27]\n"
     ]
    }
   ],
   "source": [
    "# exponents\n",
    "x = [1, 2, 3]\n",
    "print(\"x   =\", x)\n",
    "print(\"e^x =\", np.exp(x))\n",
    "print(\"2^x =\", np.exp2(x))\n",
    "print(\"3^x =\", np.power(3, x))"
   ]
  },
  {
   "cell_type": "code",
   "execution_count": 23,
   "metadata": {},
   "outputs": [
    {
     "name": "stdout",
     "output_type": "stream",
     "text": [
      "x        = [1, 2, 4, 10]\n",
      "ln(x)    = [ 0.          0.69314718  1.38629436  2.30258509]\n",
      "log2(x)  = [ 0.          1.          2.          3.32192809]\n",
      "log10(x) = [ 0.          0.30103     0.60205999  1.        ]\n"
     ]
    }
   ],
   "source": [
    "# logarithms\n",
    "x = [1, 2, 4, 10]\n",
    "print(\"x        =\", x)\n",
    "print(\"ln(x)    =\", np.log(x))\n",
    "print(\"log2(x)  =\", np.log2(x))\n",
    "print(\"log10(x) =\", np.log10(x))"
   ]
  },
  {
   "cell_type": "code",
   "execution_count": 24,
   "metadata": {},
   "outputs": [
    {
     "name": "stdout",
     "output_type": "stream",
     "text": [
      "exp(x) - 1 = [ 0.          0.0010005   0.01005017  0.10517092]\n",
      "log(1 + x) = [ 0.          0.0009995   0.00995033  0.09531018]\n"
     ]
    }
   ],
   "source": [
    "# precision with very small input\n",
    "x = [0, 0.001, 0.01, 0.1]\n",
    "print(\"exp(x) - 1 =\", np.expm1(x))\n",
    "print(\"log(1 + x) =\", np.log1p(x))"
   ]
  },
  {
   "cell_type": "code",
   "execution_count": 25,
   "metadata": {},
   "outputs": [
    {
     "name": "stdout",
     "output_type": "stream",
     "text": [
      "[ 0 10 20 30 40]\n"
     ]
    }
   ],
   "source": [
    "# specifying output\n",
    "# for large arrays, can save memory by directing output to an existing array\n",
    "# instead of creating a temporary array behind the scenes\n",
    "x = np.arange(5)\n",
    "y = np.arange(5)\n",
    "np.multiply(x, 10, out=y)\n",
    "print(y)"
   ]
  },
  {
   "cell_type": "code",
   "execution_count": 26,
   "metadata": {},
   "outputs": [
    {
     "name": "stdout",
     "output_type": "stream",
     "text": [
      "[1 2 3 4 5]\n",
      "15\n",
      "120\n",
      "[ 1  3  6 10 15]\n",
      "[  1   2   6  24 120]\n",
      "[[ 1  2  3  4  5]\n",
      " [ 2  4  6  8 10]\n",
      " [ 3  6  9 12 15]\n",
      " [ 4  8 12 16 20]\n",
      " [ 5 10 15 20 25]]\n"
     ]
    }
   ],
   "source": [
    "# aggregates\n",
    "\n",
    "x = np.arange(1, 6)\n",
    "print(x)\n",
    "\n",
    "# \"reduce\" applies a given operation repeatedly to all array elements until a single result remains\n",
    "print(np.add.reduce(x))\n",
    "print(np.multiply.reduce(x))\n",
    "\n",
    "# \"accumulate\" stores all intermediate results\n",
    "print(np.add.accumulate(x))\n",
    "print(np.multiply.accumulate(x))\n",
    "\n",
    "# \"outer\" computes output of all pairs of two different inputs (outer products)\n",
    "print(np.multiply.outer(x, x))"
   ]
  },
  {
   "cell_type": "markdown",
   "metadata": {},
   "source": [
    "# Aggregations"
   ]
  },
  {
   "cell_type": "code",
   "execution_count": 27,
   "metadata": {},
   "outputs": [
    {
     "name": "stdout",
     "output_type": "stream",
     "text": [
      "47.7568621295\n",
      "47.7568621295\n"
     ]
    }
   ],
   "source": [
    "# sum all values in array\n",
    "L = np.random.random(100)\n",
    "print(np.sum(L)) # numpy version\n",
    "print(sum(L))    # python version"
   ]
  },
  {
   "cell_type": "code",
   "execution_count": 28,
   "metadata": {},
   "outputs": [
    {
     "name": "stdout",
     "output_type": "stream",
     "text": [
      "125 ms ± 3.49 ms per loop (mean ± std. dev. of 7 runs, 10 loops each)\n",
      "672 µs ± 17.2 µs per loop (mean ± std. dev. of 7 runs, 1000 loops each)\n"
     ]
    }
   ],
   "source": [
    "# results are identical, or close, between numpy and python versions\n",
    "# but numpy sum is ~99% faster\n",
    "big_array = np.random.rand(1000000)\n",
    "%timeit sum(big_array)\n",
    "%timeit np.sum(big_array)"
   ]
  },
  {
   "cell_type": "code",
   "execution_count": 29,
   "metadata": {},
   "outputs": [
    {
     "name": "stdout",
     "output_type": "stream",
     "text": [
      "7.07120317189e-07 0.999999720766\n",
      "7.07120317189e-07 0.999999720766\n",
      "7.07120317189e-07 0.999999720766 500383.620012\n"
     ]
    }
   ],
   "source": [
    "# minimum & maximum\n",
    "\n",
    "# python version\n",
    "print(min(big_array), max(big_array))\n",
    "\n",
    "# numpy version\n",
    "print(np.min(big_array), np.max(big_array))\n",
    "\n",
    "# shorter method of calling numpy aggregates\n",
    "print(big_array.min(), big_array.max(), big_array.sum())"
   ]
  },
  {
   "cell_type": "code",
   "execution_count": 30,
   "metadata": {},
   "outputs": [
    {
     "name": "stdout",
     "output_type": "stream",
     "text": [
      "[[ 0.64546744  0.67772003  0.39561683  0.93520641]\n",
      " [ 0.3230646   0.16810415  0.52048839  0.04394175]\n",
      " [ 0.65031129  0.38680061  0.21079803  0.29151563]]\n",
      "max axis=0: [ 0.65031129  0.67772003  0.52048839  0.93520641]\n",
      "max axis=1: [ 0.93520641  0.52048839  0.65031129]\n"
     ]
    }
   ],
   "source": [
    "# multidimensional aggregates\n",
    "\n",
    "M = np.random.random((3,4))\n",
    "print(M)\n",
    "\n",
    "# find max value within each column\n",
    "print(\"max axis=0:\",M.max(axis=0))\n",
    "\n",
    "# find max value within each row\n",
    "print(\"max axis=1:\",M.max(axis=1))"
   ]
  },
  {
   "cell_type": "code",
   "execution_count": 31,
   "metadata": {
    "collapsed": true
   },
   "outputs": [],
   "source": [
    "# more aggregation functions listed on page 61"
   ]
  },
  {
   "cell_type": "code",
   "execution_count": 32,
   "metadata": {},
   "outputs": [
    {
     "name": "stdout",
     "output_type": "stream",
     "text": [
      "order,name,height(cm)\r\n",
      "1,George Washington,189\r\n",
      "2,John Adams,170\r\n",
      "3,Thomas Jefferson,189\r\n"
     ]
    }
   ],
   "source": [
    "# Example: heights of US presidents\n",
    "# data from http://nbviewer.jupyter.org/github/jakevdp/PythonDataScienceHandbook/tree/master/notebooks/data/\n",
    "\n",
    "!head -4 data/president_heights.csv"
   ]
  },
  {
   "cell_type": "code",
   "execution_count": 33,
   "metadata": {},
   "outputs": [
    {
     "name": "stdout",
     "output_type": "stream",
     "text": [
      "[189 170 189 163 183 171 185 168 173 183 173 173 175 178 183 193 178 173\n",
      " 174 183 183 168 170 178 182 180 183 178 182 188 175 179 183 193 182 183\n",
      " 177 185 188 188 182 185]\n"
     ]
    }
   ],
   "source": [
    "# extract data with pandas\n",
    "import pandas as pd\n",
    "data = pd.read_csv('data/president_heights.csv')\n",
    "heights = np.array(data['height(cm)'])\n",
    "print(heights)"
   ]
  },
  {
   "cell_type": "code",
   "execution_count": 34,
   "metadata": {},
   "outputs": [
    {
     "name": "stdout",
     "output_type": "stream",
     "text": [
      "Mean height:         179.738095238\n",
      "Standard deviation:  6.93184344275\n",
      "Maximum height:      193\n",
      "75th percentile:     183.0\n",
      "Median:              182.0\n",
      "25th percentile:     174.25\n",
      "Minimum height:      163\n"
     ]
    }
   ],
   "source": [
    "print(\"Mean height:        \", heights.mean())\n",
    "print(\"Standard deviation: \", heights.std())\n",
    "print(\"Maximum height:     \", heights.max())\n",
    "print(\"75th percentile:    \", np.percentile(heights, 75))\n",
    "print(\"Median:             \", np.median(heights))\n",
    "print(\"25th percentile:    \", np.percentile(heights, 25))\n",
    "print(\"Minimum height:     \", heights.min())"
   ]
  },
  {
   "cell_type": "code",
   "execution_count": 35,
   "metadata": {
    "collapsed": true
   },
   "outputs": [],
   "source": [
    "%matplotlib inline\n",
    "import matplotlib.pyplot as plt\n",
    "import seaborn\n",
    "seaborn.set() #set plot style"
   ]
  },
  {
   "cell_type": "code",
   "execution_count": 36,
   "metadata": {},
   "outputs": [
    {
     "data": {
      "image/png": "[encoded data removed]",
      "text/plain": [
       "<matplotlib.figure.Figure at 0x7f4aa37c1fd0>"
      ]
     },
     "metadata": {},
     "output_type": "display_data"
    }
   ],
   "source": [
    "plt.hist(heights)\n",
    "plt.title('Height Distribution of US Presidents')\n",
    "plt.xlabel('height (cm)')\n",
    "plt.ylabel('number');"
   ]
  },
  {
   "cell_type": "markdown",
   "metadata": {},
   "source": [
    "# Computation on Arrays: Broadcasting"
   ]
  },
  {
   "cell_type": "code",
   "execution_count": 37,
   "metadata": {},
   "outputs": [
    {
     "name": "stdout",
     "output_type": "stream",
     "text": [
      "adding two 1d arrays:\n",
      "[5 6 7]\n",
      "\n",
      "NumPy broadcasting gives same result if we add a 1d array to a scalar:\n",
      "[5 6 7]\n"
     ]
    }
   ],
   "source": [
    "# broadcasting example\n",
    "\n",
    "print('adding two 1d arrays:')\n",
    "a = np.array([0, 1, 2])\n",
    "b = np.array([5, 5, 5])\n",
    "print(a+b)\n",
    "\n",
    "x = np.array(5)\n",
    "print('\\nNumPy broadcasting gives same result if we add a 1d array to a scalar:')\n",
    "print(a+x)"
   ]
  },
  {
   "cell_type": "code",
   "execution_count": 38,
   "metadata": {
    "collapsed": true
   },
   "outputs": [],
   "source": [
    "# broadcasting rule 1: If the two arrays differ in # of dimensions, the shape of the one\n",
    "# with fewer dimensions is padded with ones on the leading (left) side\n",
    "\n",
    "# broadcasting rule 2: If the shape of the two arrays does not match in any dimension,\n",
    "# the array with shape = 1 in that dimension is stretched to match the other shape\n",
    "\n",
    "# broadcasting rule 3: If in any dimension the sizes disagree and neither is = 1,\n",
    "# an error is raised"
   ]
  },
  {
   "cell_type": "code",
   "execution_count": 39,
   "metadata": {},
   "outputs": [
    {
     "name": "stdout",
     "output_type": "stream",
     "text": [
      "Variable \"M\" shape: (2, 3)\n",
      "[[ 1.  1.  1.]\n",
      " [ 1.  1.  1.]]\n",
      "\n",
      "Variable \"a\" shape: (3,)\n",
      "[0 1 2]\n",
      "\n",
      "Rule 1: NumPy will pad shape of variable \"a\" to the left with a \"1\":\n",
      "So the new shape will be (1,3)\n",
      "[[ 0. 1. 2. ]]\n",
      "\n",
      "Rule 2: Numpy will stretch the first dimension:\n",
      "Final shape will be (2,3)\n",
      "[[ 0. 1. 2. ]\n",
      " [ 0. 1. 2. ]]\n",
      "\n",
      "Arrays can now be added:\n",
      "[[ 1.  2.  3.]\n",
      " [ 1.  2.  3.]]\n"
     ]
    }
   ],
   "source": [
    "# example 1\n",
    "M = np.ones((2,3))\n",
    "a = np.arange(3)\n",
    "print('Variable \"M\" shape:',M.shape)\n",
    "print(M)\n",
    "print('\\nVariable \"a\" shape:',a.shape)\n",
    "print(a)\n",
    "print('\\nRule 1: NumPy will pad shape of variable \"a\" to the left with a \"1\":')\n",
    "print('So the new shape will be (1,3)')\n",
    "print('[[ 0. 1. 2. ]]')\n",
    "print('\\nRule 2: Numpy will stretch the first dimension:')\n",
    "print('Final shape will be (2,3)')\n",
    "print('[[ 0. 1. 2. ]')\n",
    "print(' [ 0. 1. 2. ]]')\n",
    "print('\\nArrays can now be added:')\n",
    "print(M+a)"
   ]
  },
  {
   "cell_type": "code",
   "execution_count": 40,
   "metadata": {},
   "outputs": [
    {
     "name": "stdout",
     "output_type": "stream",
     "text": [
      "Variable \"a\" shape: (3, 1)\n",
      "[[0]\n",
      " [1]\n",
      " [2]]\n",
      "\n",
      "Variable \"b\" shape: (3,)\n",
      "[0 1 2]\n",
      "\n",
      "Rule 1 pads shape of b with ones:\n",
      "\n",
      "New shape of b: (1,3)\n",
      "[[0 1 2]]\n",
      "\n",
      "Rule 2 then stretches the shape of both a and b to match: \n",
      "\n",
      "Final shape of a (3,3)\n",
      "[[0 0 0]\n",
      "[ 1 1 1]\n",
      "[ 2 2 2]]\n",
      "\n",
      "Final shape of b (3,3)\n",
      "[[0 1 2]\n",
      "[ 0 1 2]\n",
      "[ 0 1 2]]\n",
      "\n",
      "Arrays can now be added:\n",
      "[[0 1 2]\n",
      " [1 2 3]\n",
      " [2 3 4]]\n"
     ]
    }
   ],
   "source": [
    "# example 2\n",
    "a = np.arange(3).reshape((a.size, 1))\n",
    "b = np.arange(3)\n",
    "print('Variable \"a\" shape:',a.shape)\n",
    "print(a)\n",
    "print('\\nVariable \"b\" shape:',b.shape)\n",
    "print(b)\n",
    "print('\\nRule 1 pads shape of b with ones:')\n",
    "print('\\nNew shape of b: (1,3)')\n",
    "print('[[0 1 2]]')\n",
    "print('\\nRule 2 then stretches the shape of both a and b to match: ')\n",
    "print('\\nFinal shape of a (3,3)')\n",
    "print('[[0 0 0]')\n",
    "print('[ 1 1 1]')\n",
    "print('[ 2 2 2]]')\n",
    "print('\\nFinal shape of b (3,3)')\n",
    "print('[[0 1 2]')\n",
    "print('[ 0 1 2]')\n",
    "print('[ 0 1 2]]')\n",
    "print('\\nArrays can now be added:')\n",
    "print(a + b)"
   ]
  },
  {
   "cell_type": "code",
   "execution_count": 41,
   "metadata": {},
   "outputs": [
    {
     "name": "stdout",
     "output_type": "stream",
     "text": [
      "Variable \"M\" shape: (3, 2)\n",
      "[[ 1.  1.]\n",
      " [ 1.  1.]\n",
      " [ 1.  1.]]\n",
      "\n",
      "Variable \"a\" shape: (3,)\n",
      "[0 1 2]\n",
      "\n",
      "Rule 1 pads \"a\" with a 1:\n",
      "Variable \"a\" new shape: (1,3)\n",
      "[[0 1 2]]\n",
      "\n",
      "Rule 2: first dimension of \"a\" is stretched to match \"M\":\n",
      "Variable \"a\" new shape: (3,3)\n",
      "[[0 1 2]\n",
      "[ 0 1 2]\n",
      "[ 0 1 2]]\n",
      "\n",
      "But now shapes of M and a are incompatible, so they can't be added\n",
      "M+a will return error:\n",
      "ValueError: operands could not be broadcast together with shapes (3,2) (3,) \n",
      "\n",
      "We can manually reshape a:\n",
      "(3, 1)\n",
      "[[0]\n",
      " [1]\n",
      " [2]]\n",
      "which is compatible to add M+a:\n",
      "[[ 1.  1.]\n",
      " [ 2.  2.]\n",
      " [ 3.  3.]]\n"
     ]
    }
   ],
   "source": [
    "# example 3\n",
    "M = np.ones((3,2))\n",
    "a = np.arange(3)\n",
    "print('Variable \"M\" shape:',M.shape)\n",
    "print(M)\n",
    "print('\\nVariable \"a\" shape:',a.shape)\n",
    "print(a)\n",
    "print('\\nRule 1 pads \"a\" with a 1:')\n",
    "print('Variable \"a\" new shape: (1,3)')\n",
    "print('[[0 1 2]]')\n",
    "print('\\nRule 2: first dimension of \"a\" is stretched to match \"M\":')\n",
    "print('Variable \"a\" new shape: (3,3)')\n",
    "print('[[0 1 2]')\n",
    "print('[ 0 1 2]')\n",
    "print('[ 0 1 2]]')\n",
    "print(\"\\nBut now shapes of M and a are incompatible, so they can't be added\")\n",
    "print('M+a will return error:')\n",
    "print('ValueError: operands could not be broadcast together with shapes (3,2) (3,) ')\n",
    "print('\\nWe can manually reshape a:')\n",
    "print(a[:, np.newaxis].shape)\n",
    "print(a[:, np.newaxis])\n",
    "print('which is compatible to add M+a:')\n",
    "print(M+a[:, np.newaxis])"
   ]
  },
  {
   "cell_type": "code",
   "execution_count": 42,
   "metadata": {},
   "outputs": [
    {
     "name": "stdout",
     "output_type": "stream",
     "text": [
      "[[ 0.23485452  0.00397991  0.98768821]\n",
      " [ 0.02729722  0.93858252  0.21806917]\n",
      " [ 0.71465661  0.53961311  0.96638332]\n",
      " [ 0.47638275  0.73918098  0.64739147]\n",
      " [ 0.06441697  0.5502544   0.70504979]\n",
      " [ 0.6732417   0.85116477  0.00818631]\n",
      " [ 0.80869819  0.26380728  0.42858168]\n",
      " [ 0.67599001  0.1877476   0.48599324]\n",
      " [ 0.4824033   0.7716626   0.660094  ]\n",
      " [ 0.76667579  0.38533203  0.99242336]]\n",
      "mean:\n",
      "[ 0.49246171  0.52313252  0.60998606]\n",
      "centered:\n",
      "[[-0.25760718 -0.51915261  0.37770216]\n",
      " [-0.46516448  0.41545    -0.39191689]\n",
      " [ 0.2221949   0.01648059  0.35639726]\n",
      " [-0.01607895  0.21604846  0.03740541]\n",
      " [-0.42804474  0.02712188  0.09506374]\n",
      " [ 0.18078     0.32803225 -0.60179974]\n",
      " [ 0.31623648 -0.25932524 -0.18140438]\n",
      " [ 0.1835283  -0.33538492 -0.12399281]\n",
      " [-0.0100584   0.24853008  0.05010794]\n",
      " [ 0.27421408 -0.13780049  0.3824373 ]]\n",
      "centered mean:\n"
     ]
    },
    {
     "data": {
      "text/plain": [
       "array([ -1.11022302e-17,  -7.77156117e-17,   1.11022302e-17])"
      ]
     },
     "execution_count": 42,
     "metadata": {},
     "output_type": "execute_result"
    }
   ],
   "source": [
    "# centering an array\n",
    "\n",
    "# array of 10 observations, with 3 values each\n",
    "# standard convention is to store in 10x3 array\n",
    "X = np.random.random((10,3))\n",
    "print(X)\n",
    "\n",
    "# compute the mean of each feature across first dimension\n",
    "Xmean = X.mean(0)\n",
    "print('mean:')\n",
    "print(Xmean)\n",
    "\n",
    "# center the array by subtracting the mean\n",
    "# this is broadcasting because subtracting a 1d array from a 2d array\n",
    "X_centered = X - Xmean\n",
    "print('centered:')\n",
    "print(X_centered)\n",
    "\n",
    "# now check to make sure centered mean is zero\n",
    "print('centered mean:')\n",
    "X_centered.mean(0)"
   ]
  },
  {
   "cell_type": "code",
   "execution_count": 43,
   "metadata": {},
   "outputs": [
    {
     "data": {
      "image/png": "[encoded data removed]",
      "text/plain": [
       "<matplotlib.figure.Figure at 0x7f4ad7a94128>"
      ]
     },
     "metadata": {},
     "output_type": "display_data"
    }
   ],
   "source": [
    "# plotting a 2-dimensional function\n",
    "\n",
    "# x and y have 50 steps from 0 to 5\n",
    "x = np.linspace(0, 5, 50)\n",
    "y = np.linspace(0, 5, 50)[:, np.newaxis]\n",
    "\n",
    "# create a 2-d array using broadcasting (and some trig tricks):\n",
    "z = np.sin(x) ** 10 + np.cos(10 +y * x) * np.cos(x)\n",
    "\n",
    "%matplotlib inline\n",
    "import matplotlib.pyplot as plt\n",
    "\n",
    "plt.imshow(z, origin='lower', extent=[0, 5, 0, 5], cmap='viridis')\n",
    "plt.colorbar();"
   ]
  },
  {
   "cell_type": "markdown",
   "metadata": {},
   "source": [
    "# Comparisons, Masks, and Boolean Logic"
   ]
  },
  {
   "cell_type": "code",
   "execution_count": 44,
   "metadata": {},
   "outputs": [
    {
     "data": {
      "text/plain": [
       "(365,)"
      ]
     },
     "execution_count": 44,
     "metadata": {},
     "output_type": "execute_result"
    }
   ],
   "source": [
    "# we imported pandas as pd above\n",
    "# extract rainfall inches as NumPy array\n",
    "rainfall = pd.read_csv('data/Seattle2014.csv')['PRCP'].values\n",
    "inches = rainfall / 254 # 1/10mm -> inches\n",
    "inches.shape"
   ]
  },
  {
   "cell_type": "code",
   "execution_count": 45,
   "metadata": {},
   "outputs": [
    {
     "data": {
      "image/png": "[encoded data removed]",
      "text/plain": [
       "<matplotlib.figure.Figure at 0x7f4ab35e8d30>"
      ]
     },
     "metadata": {},
     "output_type": "display_data"
    }
   ],
   "source": [
    "%matplotlib inline\n",
    "import matplotlib.pyplot as plt\n",
    "import seaborn\n",
    "seaborn.set() # set plot styles\n",
    "\n",
    "plt.hist(inches, 40);\n",
    "\n",
    "# we'll come back to this below..."
   ]
  },
  {
   "cell_type": "code",
   "execution_count": 46,
   "metadata": {},
   "outputs": [
    {
     "name": "stdout",
     "output_type": "stream",
     "text": [
      "array:                 [1 2 3 4 5]\n",
      "less than or equal 3:  [ True  True  True False False]\n",
      "greater than 3:        [False False False  True  True]\n",
      "not equal to 3:        [ True  True False  True  True]\n",
      "is even:               [False  True False  True False]\n"
     ]
    }
   ],
   "source": [
    "# examples of ufunc array comparisons\n",
    "x = np.array([1, 2, 3, 4, 5])\n",
    "\n",
    "a = ( x <= 3 )\n",
    "b = ( x > 3 )\n",
    "c = ( x != 3 )\n",
    "d = ( x % 2 == 0 )\n",
    "\n",
    "print('array:                ', x)\n",
    "print('less than or equal 3: ', a)\n",
    "print('greater than 3:       ', b)\n",
    "print('not equal to 3:       ', c)\n",
    "print('is even:              ', d) # modulus - true if even"
   ]
  },
  {
   "cell_type": "code",
   "execution_count": 47,
   "metadata": {},
   "outputs": [
    {
     "data": {
      "text/plain": [
       "array([False,  True, False, False, False], dtype=bool)"
      ]
     },
     "execution_count": 47,
     "metadata": {},
     "output_type": "execute_result"
    }
   ],
   "source": [
    "# comparison with compound expression\n",
    "(2 * x) == (x ** 2)"
   ]
  },
  {
   "cell_type": "code",
   "execution_count": 48,
   "metadata": {},
   "outputs": [
    {
     "name": "stdout",
     "output_type": "stream",
     "text": [
      "[[5 0 3 3]\n",
      " [7 9 3 5]\n",
      " [2 4 7 6]]\n",
      "[[ True  True  True  True]\n",
      " [False False  True  True]\n",
      " [ True  True False False]]\n"
     ]
    }
   ],
   "source": [
    "# comparison on 2d array\n",
    "rng = np.random.RandomState(0)\n",
    "x = rng.randint(10, size=(3,4))\n",
    "print(x)\n",
    "print(x < 6)"
   ]
  },
  {
   "cell_type": "code",
   "execution_count": 49,
   "metadata": {},
   "outputs": [
    {
     "name": "stdout",
     "output_type": "stream",
     "text": [
      "[[5 0 3 3]\n",
      " [7 9 3 5]\n",
      " [2 4 7 6]]\n",
      "8\n",
      "8\n",
      "[4 2 2]\n",
      "True\n",
      "[ True False  True]\n"
     ]
    }
   ],
   "source": [
    "# working with boolean arrays\n",
    "print(x)\n",
    "\n",
    "# counting entries\n",
    "print(np.count_nonzero(x < 6))\n",
    "\n",
    "# we can do the same using sum (where true = 1)\n",
    "print(np.sum(x < 6))\n",
    "\n",
    "# how many are < 6 in each row?\n",
    "print(np.sum(x < 6, axis = 1))\n",
    "\n",
    "# are any values greater than 8?\n",
    "print(np.any(x>8))\n",
    "\n",
    "# are all values in each row less than 8?\n",
    "print(np.all(x<8, axis = 1))"
   ]
  },
  {
   "cell_type": "code",
   "execution_count": 50,
   "metadata": {},
   "outputs": [
    {
     "name": "stdout",
     "output_type": "stream",
     "text": [
      "29\n",
      "29\n"
     ]
    }
   ],
   "source": [
    "# boolean operators\n",
    "\n",
    "# sum all days with rain between 0.5 and 1 inch\n",
    "a = np.sum( (inches > 0.5) & (inches < 1) )\n",
    "print(a)\n",
    "\n",
    "# or using bitwise NOT:\n",
    "b = np.sum(~( (inches <= 0.5) | (inches >= 1) ))\n",
    "print(b)\n",
    "\n",
    "# operator  equivalent ufunc\n",
    "# &         np.bitwise_and\n",
    "# |         np.bitwise_or\n",
    "# ^         np.bitwise_xor (exclusive or: (0,1) or (1,0))\n",
    "# ~         np.bitwise_not"
   ]
  },
  {
   "cell_type": "code",
   "execution_count": 51,
   "metadata": {},
   "outputs": [
    {
     "name": "stdout",
     "output_type": "stream",
     "text": [
      "Number days without rain:  215\n",
      "Number days with rain:     150\n",
      "Days with > 0.5 inches:    37\n",
      "Days with < 0.1 inches:    75\n"
     ]
    }
   ],
   "source": [
    "print( \"Number days without rain: \", np.sum(inches == 0) )\n",
    "print( \"Number days with rain:    \", np.sum(inches != 0) )\n",
    "print( \"Days with > 0.5 inches:   \", np.sum(inches > 0.5) )\n",
    "print( \"Days with < 0.1 inches:   \", np.sum((inches > 0) & \n",
    "                                            (inches < 0.2) ))"
   ]
  },
  {
   "cell_type": "code",
   "execution_count": 52,
   "metadata": {},
   "outputs": [
    {
     "name": "stdout",
     "output_type": "stream",
     "text": [
      "[[5 0 3 3]\n",
      " [7 9 3 5]\n",
      " [2 4 7 6]]\n",
      "[[False  True  True  True]\n",
      " [False False  True False]\n",
      " [ True  True False False]]\n"
     ]
    }
   ],
   "source": [
    "# boolean arrays as masks\n",
    "# first show all values in array x which are < 5\n",
    "print(x)\n",
    "print(x < 5)"
   ]
  },
  {
   "cell_type": "code",
   "execution_count": 53,
   "metadata": {},
   "outputs": [
    {
     "data": {
      "text/plain": [
       "array([0, 3, 3, 3, 2, 4])"
      ]
     },
     "execution_count": 53,
     "metadata": {},
     "output_type": "execute_result"
    }
   ],
   "source": [
    "# now to select the true values, index on the boolean array\n",
    "# this is a masking operation\n",
    "x[x<5]"
   ]
  },
  {
   "cell_type": "code",
   "execution_count": 54,
   "metadata": {},
   "outputs": [
    {
     "name": "stdout",
     "output_type": "stream",
     "text": [
      "[False  True  True False False  True  True  True  True  True]\n",
      "Median precip on rainy days:     0.194881889764\n",
      "Median precip on summer days:    0.0\n",
      "Max precip on summer days:      0.850393700787\n",
      "Max precip on non-summer days:   1.83858267717\n"
     ]
    }
   ],
   "source": [
    "# masking with rain data\n",
    "\n",
    "# mask of all rainy days\n",
    "rainy = (inches > 0)\n",
    "print(rainy[:10])\n",
    "\n",
    "# mask of all summer days (June 21 is 172nd day)\n",
    "summer = (np.arange(365) - 172 < 90) & (np.arange(365) - 172 > 0)\n",
    "\n",
    "print(\"Median precip on rainy days:    \",\n",
    "    np.median(inches[rainy]))\n",
    "print(\"Median precip on summer days:   \",\n",
    "    np.median(inches[summer]))\n",
    "print(\"Max precip on summer days:     \",\n",
    "    np.max(inches[summer]))\n",
    "print(\"Max precip on non-summer days:  \",\n",
    "    np.max(inches[rainy & ~summer]))"
   ]
  },
  {
   "cell_type": "markdown",
   "metadata": {},
   "source": [
    "# Fancy Indexing"
   ]
  },
  {
   "cell_type": "code",
   "execution_count": 55,
   "metadata": {},
   "outputs": [
    {
     "name": "stdout",
     "output_type": "stream",
     "text": [
      "[51 92 14 71 60 20 82 86 74 74]\n"
     ]
    }
   ],
   "source": [
    "rand = np.random.RandomState(42)\n",
    "x = rand.randint(100, size=10)\n",
    "print(x)"
   ]
  },
  {
   "cell_type": "code",
   "execution_count": 56,
   "metadata": {},
   "outputs": [
    {
     "data": {
      "text/plain": [
       "array([71, 86, 60])"
      ]
     },
     "execution_count": 56,
     "metadata": {},
     "output_type": "execute_result"
    }
   ],
   "source": [
    "# pass an array of indeces\n",
    "ind = [3, 7, 4]\n",
    "x[ind]"
   ]
  },
  {
   "cell_type": "code",
   "execution_count": 57,
   "metadata": {},
   "outputs": [
    {
     "data": {
      "text/plain": [
       "array([[71, 86],\n",
       "       [60, 20]])"
      ]
     },
     "execution_count": 57,
     "metadata": {},
     "output_type": "execute_result"
    }
   ],
   "source": [
    "# shape of result reflects the shape of the index array\n",
    "ind = np.array([[3,7],\n",
    "                [4, 5]])\n",
    "x[ind]"
   ]
  },
  {
   "cell_type": "code",
   "execution_count": 58,
   "metadata": {},
   "outputs": [
    {
     "data": {
      "text/plain": [
       "array([[ 0,  1,  2,  3],\n",
       "       [ 4,  5,  6,  7],\n",
       "       [ 8,  9, 10, 11]])"
      ]
     },
     "execution_count": 58,
     "metadata": {},
     "output_type": "execute_result"
    }
   ],
   "source": [
    "# fancy indexing in multiple dimensions\n",
    "X = np.arange(12).reshape((3,4))\n",
    "X"
   ]
  },
  {
   "cell_type": "code",
   "execution_count": 59,
   "metadata": {},
   "outputs": [
    {
     "name": "stdout",
     "output_type": "stream",
     "text": [
      "[0 1 2]\n",
      "[2 1 3]\n"
     ]
    },
    {
     "data": {
      "text/plain": [
       "array([ 2,  5, 11])"
      ]
     },
     "execution_count": 59,
     "metadata": {},
     "output_type": "execute_result"
    }
   ],
   "source": [
    "row = np.array([0, 1, 2])\n",
    "col = np.array([2, 1, 3])\n",
    "print(row)\n",
    "print(col)\n",
    "\n",
    "# return values for each row/column pair\n",
    "X[row, col]"
   ]
  },
  {
   "cell_type": "code",
   "execution_count": 60,
   "metadata": {},
   "outputs": [
    {
     "data": {
      "text/plain": [
       "array([[ 2,  1,  3],\n",
       "       [ 6,  5,  7],\n",
       "       [10,  9, 11]])"
      ]
     },
     "execution_count": 60,
     "metadata": {},
     "output_type": "execute_result"
    }
   ],
   "source": [
    "# using broadcasting 0 combine a column and row vector in indeces\n",
    "# to get a 2 dimensional result\n",
    "X[row[:, np.newaxis], col]\n",
    "# with fancy indexing, the return value reflects the broadcasted shape of the indices\n",
    "# not the shape of the array being indexed"
   ]
  },
  {
   "cell_type": "code",
   "execution_count": 61,
   "metadata": {
    "collapsed": true
   },
   "outputs": [],
   "source": [
    "# combined indexing"
   ]
  },
  {
   "cell_type": "code",
   "execution_count": 62,
   "metadata": {},
   "outputs": [
    {
     "data": {
      "text/plain": [
       "array([[ 0,  1,  2,  3],\n",
       "       [ 4,  5,  6,  7],\n",
       "       [ 8,  9, 10, 11]])"
      ]
     },
     "execution_count": 62,
     "metadata": {},
     "output_type": "execute_result"
    }
   ],
   "source": [
    "# array X from above\n",
    "X"
   ]
  },
  {
   "cell_type": "code",
   "execution_count": 63,
   "metadata": {},
   "outputs": [
    {
     "data": {
      "text/plain": [
       "array([10,  8,  9])"
      ]
     },
     "execution_count": 63,
     "metadata": {},
     "output_type": "execute_result"
    }
   ],
   "source": [
    "# combine fancy and simple indices:\n",
    "X[2, [2, 0, 1]]"
   ]
  },
  {
   "cell_type": "code",
   "execution_count": 64,
   "metadata": {},
   "outputs": [
    {
     "data": {
      "text/plain": [
       "array([[ 6,  4,  5],\n",
       "       [10,  8,  9]])"
      ]
     },
     "execution_count": 64,
     "metadata": {},
     "output_type": "execute_result"
    }
   ],
   "source": [
    "# combine fancy indexing and slicing\n",
    "X[1:, [2, 0, 1]]"
   ]
  },
  {
   "cell_type": "code",
   "execution_count": 65,
   "metadata": {},
   "outputs": [
    {
     "name": "stdout",
     "output_type": "stream",
     "text": [
      "[ True False  True False]\n",
      "[0 1 2]\n"
     ]
    },
    {
     "data": {
      "text/plain": [
       "array([[ 0,  2],\n",
       "       [ 4,  6],\n",
       "       [ 8, 10]])"
      ]
     },
     "execution_count": 65,
     "metadata": {},
     "output_type": "execute_result"
    }
   ],
   "source": [
    "# combine fancy indexing with masking\n",
    "mask = np.array([1, 0, 1, 0], dtype=bool)\n",
    "print(mask)\n",
    "print(row)\n",
    "X[row[:, np.newaxis], mask]"
   ]
  },
  {
   "cell_type": "markdown",
   "metadata": {},
   "source": [
    "# Example: Selecting Random Points"
   ]
  },
  {
   "cell_type": "code",
   "execution_count": 66,
   "metadata": {},
   "outputs": [
    {
     "data": {
      "text/plain": [
       "(100, 2)"
      ]
     },
     "execution_count": 66,
     "metadata": {},
     "output_type": "execute_result"
    }
   ],
   "source": [
    "mean = [0, 0]\n",
    "cov = [[1, 2],\n",
    "       [2, 5]]\n",
    "X = rand.multivariate_normal(mean, cov, 100)\n",
    "X.shape"
   ]
  },
  {
   "cell_type": "code",
   "execution_count": 67,
   "metadata": {},
   "outputs": [
    {
     "data": {
      "text/plain": [
       "array([[-0.644508  , -0.46220608],\n",
       "       [ 0.7376352 ,  1.21236921],\n",
       "       [ 0.88151763,  1.12795177],\n",
       "       [ 2.04998983,  5.97778598],\n",
       "       [-0.1711348 , -2.06258746]])"
      ]
     },
     "execution_count": 67,
     "metadata": {},
     "output_type": "execute_result"
    }
   ],
   "source": [
    "X[:5]"
   ]
  },
  {
   "cell_type": "code",
   "execution_count": 68,
   "metadata": {},
   "outputs": [
    {
     "data": {
      "image/png": "[encoded data removed]",
      "text/plain": [
       "<matplotlib.figure.Figure at 0x7f4aa1128908>"
      ]
     },
     "metadata": {},
     "output_type": "display_data"
    }
   ],
   "source": [
    "%matplotlib inline\n",
    "import matplotlib.pyplot as plt\n",
    "import seaborn; seaborn.set() # for plot styling\n",
    "plt.scatter(X[:, 0], X[:, 1]);"
   ]
  },
  {
   "cell_type": "code",
   "execution_count": 69,
   "metadata": {},
   "outputs": [
    {
     "data": {
      "text/plain": [
       "array([34, 10,  0, 16, 96, 65, 82, 52, 69, 24, 46, 63, 78, 92, 39, 83, 30,\n",
       "       66, 53, 81])"
      ]
     },
     "execution_count": 69,
     "metadata": {},
     "output_type": "execute_result"
    }
   ],
   "source": [
    "# use fancy indexing to select 20 random points\n",
    "# first chose 20 random indices with no replacement\n",
    "# and use these indices to select portion of original array\n",
    "indices = np.random.choice(X.shape[0], 20, replace=False)\n",
    "indices"
   ]
  },
  {
   "cell_type": "code",
   "execution_count": 70,
   "metadata": {},
   "outputs": [
    {
     "data": {
      "text/plain": [
       "(20, 2)"
      ]
     },
     "execution_count": 70,
     "metadata": {},
     "output_type": "execute_result"
    }
   ],
   "source": [
    "selection = X[indices] #fancy indexing\n",
    "selection.shape"
   ]
  },
  {
   "cell_type": "code",
   "execution_count": 71,
   "metadata": {},
   "outputs": [
    {
     "data": {
      "text/plain": [
       "array([[ 0.91181024,  3.32968944],\n",
       "       [ 0.19199272,  1.48901291],\n",
       "       [-0.644508  , -0.46220608],\n",
       "       [-3.0236127 , -6.00766046],\n",
       "       [-1.2567603 , -1.125898  ]])"
      ]
     },
     "execution_count": 71,
     "metadata": {},
     "output_type": "execute_result"
    }
   ],
   "source": [
    "selection[:5]"
   ]
  },
  {
   "cell_type": "code",
   "execution_count": 72,
   "metadata": {},
   "outputs": [
    {
     "data": {
      "image/png": "[encoded data removed]",
      "text/plain": [
       "<matplotlib.figure.Figure at 0x7f4aa0b84438>"
      ]
     },
     "metadata": {},
     "output_type": "display_data"
    }
   ],
   "source": [
    "# show the 20 randomly selected points\n",
    "# in the book, these are supposed to be circled\n",
    "plt.scatter(X[:, 0], X[:, 1], alpha=0.3)\n",
    "plt.scatter(selection[:, 0], selection[:, 1], facecolor='blue', s=50);"
   ]
  },
  {
   "cell_type": "markdown",
   "metadata": {},
   "source": [
    "# modifying values with fancy indexing"
   ]
  },
  {
   "cell_type": "code",
   "execution_count": 73,
   "metadata": {},
   "outputs": [
    {
     "data": {
      "text/plain": [
       "array([ 0, 99, 99,  3, 99,  5,  6,  7, 99,  9])"
      ]
     },
     "execution_count": 73,
     "metadata": {},
     "output_type": "execute_result"
    }
   ],
   "source": [
    "# set corresponding values in array to a new value (99)\n",
    "x = np.arange(10)\n",
    "i = np.array([2, 1, 8, 4])\n",
    "x[i] = 99\n",
    "x"
   ]
  },
  {
   "cell_type": "code",
   "execution_count": 74,
   "metadata": {},
   "outputs": [
    {
     "data": {
      "text/plain": [
       "array([ 0, 89, 89,  3, 89,  5,  6,  7, 89,  9])"
      ]
     },
     "execution_count": 74,
     "metadata": {},
     "output_type": "execute_result"
    }
   ],
   "source": [
    "x[i] -=10\n",
    "x"
   ]
  },
  {
   "cell_type": "code",
   "execution_count": 75,
   "metadata": {},
   "outputs": [
    {
     "data": {
      "text/plain": [
       "array([ 0.,  0.,  1.,  1.,  1.,  0.,  0.,  0.,  0.,  0.])"
      ]
     },
     "execution_count": 75,
     "metadata": {},
     "output_type": "execute_result"
    }
   ],
   "source": [
    "x = np.zeros(10)\n",
    "i = [2, 3, 3, 4, 4, 4]\n",
    "x[i] += 1\n",
    "x\n",
    "# 3 and 4 are only evaluated once"
   ]
  },
  {
   "cell_type": "code",
   "execution_count": 76,
   "metadata": {},
   "outputs": [
    {
     "data": {
      "text/plain": [
       "array([ 0.,  0.,  1.,  2.,  3.,  0.,  0.,  0.,  0.,  0.])"
      ]
     },
     "execution_count": 76,
     "metadata": {},
     "output_type": "execute_result"
    }
   ],
   "source": [
    "# to evaluate multiple times, use at() ufunc method\n",
    "x = np.zeros(10)\n",
    "np.add.at(x, i, 1)\n",
    "x"
   ]
  },
  {
   "cell_type": "markdown",
   "metadata": {},
   "source": [
    "# Example: binning data"
   ]
  },
  {
   "cell_type": "code",
   "execution_count": 77,
   "metadata": {},
   "outputs": [
    {
     "data": {
      "image/png": "[encoded data removed]",
      "text/plain": [
       "<matplotlib.figure.Figure at 0x7f4aa0b200b8>"
      ]
     },
     "metadata": {},
     "output_type": "display_data"
    }
   ],
   "source": [
    "np.random.seed(42)\n",
    "x = np.random.randn(100)\n",
    "\n",
    "# create 20 bins ranged from -5 to 5\n",
    "bins = np.linspace(-5, 5, 20)\n",
    "\n",
    "# create zero count for each bin\n",
    "counts = np.zeros_like(bins)\n",
    "\n",
    "# find the approriate bin for each x\n",
    "# searchsorted finds the index of each bin which numerically falls before each point x\n",
    "i = np.searchsorted(bins, x)\n",
    "\n",
    "# add 1 for each bin value stored in index i to the appropriate bin counter\n",
    "np.add.at(counts, i, 1)\n",
    "\n",
    "# plot the count results for each bin\n",
    "plt.plot(bins, counts, linestyle='steps');"
   ]
  },
  {
   "cell_type": "code",
   "execution_count": 78,
   "metadata": {},
   "outputs": [
    {
     "data": {
      "image/png": "[encoded data removed]",
      "text/plain": [
       "<matplotlib.figure.Figure at 0x7f4aa0b27da0>"
      ]
     },
     "metadata": {},
     "output_type": "display_data"
    }
   ],
   "source": [
    "# do the same thing using matplotlib hist()\n",
    "plt.hist(x, bins, histtype='step');"
   ]
  },
  {
   "cell_type": "markdown",
   "metadata": {},
   "source": [
    "# sorting arrays"
   ]
  },
  {
   "cell_type": "code",
   "execution_count": 79,
   "metadata": {},
   "outputs": [
    {
     "data": {
      "text/plain": [
       "array([1, 2, 3, 4, 5])"
      ]
     },
     "execution_count": 79,
     "metadata": {},
     "output_type": "execute_result"
    }
   ],
   "source": [
    "# numpy has multiple sort algorithms, default is \"quicksort\" (N log N), suitable for most applications\n",
    "# other algs include mergesort and heapsort\n",
    "\n",
    "# np.array returns sorted version of array\n",
    "x = np.array ([2, 1, 4, 3, 5])\n",
    "np.sort(x)"
   ]
  },
  {
   "cell_type": "code",
   "execution_count": 80,
   "metadata": {},
   "outputs": [
    {
     "data": {
      "text/plain": [
       "array([1, 2, 3, 4, 5])"
      ]
     },
     "execution_count": 80,
     "metadata": {},
     "output_type": "execute_result"
    }
   ],
   "source": [
    "# to sort in place, use sort method of array\n",
    "x.sort()\n",
    "x"
   ]
  },
  {
   "cell_type": "code",
   "execution_count": 81,
   "metadata": {},
   "outputs": [
    {
     "data": {
      "text/plain": [
       "array([1, 0, 3, 2, 4])"
      ]
     },
     "execution_count": 81,
     "metadata": {},
     "output_type": "execute_result"
    }
   ],
   "source": [
    "# argsort returns indeces of sorted elements\n",
    "x = np.array ([2, 1, 4, 3, 5])\n",
    "i = np.argsort(x)\n",
    "i"
   ]
  },
  {
   "cell_type": "code",
   "execution_count": 82,
   "metadata": {},
   "outputs": [
    {
     "data": {
      "text/plain": [
       "array([1, 2, 3, 4, 5])"
      ]
     },
     "execution_count": 82,
     "metadata": {},
     "output_type": "execute_result"
    }
   ],
   "source": [
    "# this index can be used to create a sorted array\n",
    "x[i]"
   ]
  },
  {
   "cell_type": "code",
   "execution_count": 83,
   "metadata": {},
   "outputs": [
    {
     "data": {
      "text/plain": [
       "array([[6, 3, 7, 4, 6, 9],\n",
       "       [2, 6, 7, 4, 3, 7],\n",
       "       [7, 2, 5, 4, 1, 7],\n",
       "       [5, 1, 4, 0, 9, 5]])"
      ]
     },
     "execution_count": 83,
     "metadata": {},
     "output_type": "execute_result"
    }
   ],
   "source": [
    "# sorting along rows or columns\n",
    "# numpy can sort along specific axis\n",
    "rand = np.random.RandomState(42)\n",
    "X = rand.randint(0, 10, (4, 6))\n",
    "X"
   ]
  },
  {
   "cell_type": "code",
   "execution_count": 84,
   "metadata": {},
   "outputs": [
    {
     "data": {
      "text/plain": [
       "array([[2, 1, 4, 0, 1, 5],\n",
       "       [5, 2, 5, 4, 3, 7],\n",
       "       [6, 3, 7, 4, 6, 7],\n",
       "       [7, 6, 7, 4, 9, 9]])"
      ]
     },
     "execution_count": 84,
     "metadata": {},
     "output_type": "execute_result"
    }
   ],
   "source": [
    "# sort each column of x\n",
    "# note that this loses the relationships between row/column values\n",
    "np.sort(X, axis=0)"
   ]
  },
  {
   "cell_type": "code",
   "execution_count": 85,
   "metadata": {},
   "outputs": [
    {
     "data": {
      "text/plain": [
       "array([[3, 4, 6, 6, 7, 9],\n",
       "       [2, 3, 4, 6, 7, 7],\n",
       "       [1, 2, 4, 5, 7, 7],\n",
       "       [0, 1, 4, 5, 5, 9]])"
      ]
     },
     "execution_count": 85,
     "metadata": {},
     "output_type": "execute_result"
    }
   ],
   "source": [
    "# sort each row of x\n",
    "np.sort(X, axis=1)"
   ]
  },
  {
   "cell_type": "code",
   "execution_count": 86,
   "metadata": {},
   "outputs": [
    {
     "data": {
      "text/plain": [
       "array([2, 1, 3, 4, 6, 5, 7])"
      ]
     },
     "execution_count": 86,
     "metadata": {},
     "output_type": "execute_result"
    }
   ],
   "source": [
    "# partial sorts: partitioning\n",
    "# np.partition takes array and a number K\n",
    "# result is new array with the smallest K values to the left, and the remaining values to the right\n",
    "x = np.array([7, 2, 3, 1, 6, 5, 4])\n",
    "np.partition(x, 3)"
   ]
  },
  {
   "cell_type": "code",
   "execution_count": 87,
   "metadata": {},
   "outputs": [
    {
     "data": {
      "text/plain": [
       "array([[3, 4, 6, 7, 6, 9],\n",
       "       [2, 3, 4, 7, 6, 7],\n",
       "       [1, 2, 4, 5, 7, 7],\n",
       "       [0, 1, 4, 5, 9, 5]])"
      ]
     },
     "execution_count": 87,
     "metadata": {},
     "output_type": "execute_result"
    }
   ],
   "source": [
    "# partition across an axis of 2d array\n",
    "# makes the first 2 slots the smallest in the array\n",
    "np.partition(X, 2, axis=1)"
   ]
  },
  {
   "cell_type": "markdown",
   "metadata": {},
   "source": [
    "# Example: k-Nearest Neighbors"
   ]
  },
  {
   "cell_type": "code",
   "execution_count": 88,
   "metadata": {},
   "outputs": [
    {
     "data": {
      "text/plain": [
       "array([[ 0.00706631,  0.02306243],\n",
       "       [ 0.52477466,  0.39986097],\n",
       "       [ 0.04666566,  0.97375552],\n",
       "       [ 0.23277134,  0.09060643],\n",
       "       [ 0.61838601,  0.38246199],\n",
       "       [ 0.98323089,  0.46676289],\n",
       "       [ 0.85994041,  0.68030754],\n",
       "       [ 0.45049925,  0.01326496],\n",
       "       [ 0.94220176,  0.56328822],\n",
       "       [ 0.3854165 ,  0.01596625]])"
      ]
     },
     "execution_count": 88,
     "metadata": {},
     "output_type": "execute_result"
    }
   ],
   "source": [
    "# start with random set of x,y values\n",
    "# 2d array, 10 rows, 2 columns\n",
    "\n",
    "X = rand.rand(10, 2)\n",
    "X"
   ]
  },
  {
   "cell_type": "code",
   "execution_count": 89,
   "metadata": {},
   "outputs": [
    {
     "data": {
      "image/png": "[encoded data removed]",
      "text/plain": [
       "<matplotlib.figure.Figure at 0x7f4aa0a4ef28>"
      ]
     },
     "metadata": {},
     "output_type": "display_data"
    }
   ],
   "source": [
    "plt.scatter(X[:, 0], X[:, 1], s=100);"
   ]
  },
  {
   "cell_type": "code",
   "execution_count": 90,
   "metadata": {},
   "outputs": [
    {
     "data": {
      "text/plain": [
       "(10, 10)"
      ]
     },
     "execution_count": 90,
     "metadata": {},
     "output_type": "execute_result"
    }
   ],
   "source": [
    "# compute distance between each pair of points\n",
    "dist_sq = np.sum((X[:,np.newaxis,:] - X[np.newaxis,:,:]) ** 2, axis=-1)\n",
    "dist_sq.shape"
   ]
  },
  {
   "cell_type": "code",
   "execution_count": 91,
   "metadata": {},
   "outputs": [
    {
     "name": "stdout",
     "output_type": "stream",
     "text": [
      "[[[ 0.00706631  0.02306243]]\n",
      "\n",
      " [[ 0.52477466  0.39986097]]\n",
      "\n",
      " [[ 0.04666566  0.97375552]]\n",
      "\n",
      " [[ 0.23277134  0.09060643]]\n",
      "\n",
      " [[ 0.61838601  0.38246199]]\n",
      "\n",
      " [[ 0.98323089  0.46676289]]\n",
      "\n",
      " [[ 0.85994041  0.68030754]]\n",
      "\n",
      " [[ 0.45049925  0.01326496]]\n",
      "\n",
      " [[ 0.94220176  0.56328822]]\n",
      "\n",
      " [[ 0.3854165   0.01596625]]]\n"
     ]
    },
    {
     "data": {
      "text/plain": [
       "(10, 1, 2)"
      ]
     },
     "execution_count": 91,
     "metadata": {},
     "output_type": "execute_result"
    }
   ],
   "source": [
    "# breaking down what the above code is doing:\n",
    "\n",
    "print(X[:,np.newaxis,:])\n",
    "(X[:,np.newaxis,:]).shape\n",
    "\n",
    "# shape is 3d array, 10 layers deep\n",
    "# each layer has 1 row with 2 columns"
   ]
  },
  {
   "cell_type": "code",
   "execution_count": 92,
   "metadata": {},
   "outputs": [
    {
     "name": "stdout",
     "output_type": "stream",
     "text": [
      "[[[ 0.00706631  0.02306243]\n",
      "  [ 0.52477466  0.39986097]\n",
      "  [ 0.04666566  0.97375552]\n",
      "  [ 0.23277134  0.09060643]\n",
      "  [ 0.61838601  0.38246199]\n",
      "  [ 0.98323089  0.46676289]\n",
      "  [ 0.85994041  0.68030754]\n",
      "  [ 0.45049925  0.01326496]\n",
      "  [ 0.94220176  0.56328822]\n",
      "  [ 0.3854165   0.01596625]]]\n"
     ]
    },
    {
     "data": {
      "text/plain": [
       "(1, 10, 2)"
      ]
     },
     "execution_count": 92,
     "metadata": {},
     "output_type": "execute_result"
    }
   ],
   "source": [
    "print(X[np.newaxis,:, :])\n",
    "(X[np.newaxis,:, :]).shape\n",
    "\n",
    "# shape is a 3d array 1 layer deep\n",
    "# layer has 10 rows with 2 columns each"
   ]
  },
  {
   "cell_type": "code",
   "execution_count": 93,
   "metadata": {},
   "outputs": [
    {
     "name": "stdout",
     "output_type": "stream",
     "text": [
      "(10, 10, 2)\n"
     ]
    },
    {
     "data": {
      "text/plain": [
       "array([[[ 0.        ,  0.        ],\n",
       "        [-0.51770836, -0.37679855],\n",
       "        [-0.03959936, -0.95069309],\n",
       "        [-0.22570504, -0.06754401],\n",
       "        [-0.6113197 , -0.35939957],\n",
       "        [-0.97616458, -0.44370047],\n",
       "        [-0.8528741 , -0.65724511],\n",
       "        [-0.44343295,  0.00979746],\n",
       "        [-0.93513545, -0.54022579],\n",
       "        [-0.3783502 ,  0.00709617]],\n",
       "\n",
       "       [[ 0.51770836,  0.37679855],\n",
       "        [ 0.        ,  0.        ],\n",
       "        [ 0.478109  , -0.57389455],\n",
       "        [ 0.29200332,  0.30925454],\n",
       "        [-0.09361135,  0.01739898],\n",
       "        [-0.45845623, -0.06690192],\n",
       "        [-0.33516575, -0.28044657],\n",
       "        [ 0.07427541,  0.38659601],\n",
       "        [-0.4174271 , -0.16342725],\n",
       "        [ 0.13935816,  0.38389472]]])"
      ]
     },
     "execution_count": 93,
     "metadata": {},
     "output_type": "execute_result"
    }
   ],
   "source": [
    "# for each pair of points, compute differences in coordinates\n",
    "differences = X[:,np.newaxis,:] - X[np.newaxis,:,:]\n",
    "print(differences.shape)\n",
    "differences[:2]\n",
    "# we're subtracting one 3d array from another\n",
    "# broadcasting expands the z and y dimensions of each array to match\n",
    "# we end up with a 10 deep, 10 row, 2 column array\n",
    "# each layer contains the differences between a point and every other point"
   ]
  },
  {
   "cell_type": "code",
   "execution_count": 94,
   "metadata": {},
   "outputs": [
    {
     "name": "stdout",
     "output_type": "stream",
     "text": [
      "(10, 10, 2)\n"
     ]
    },
    {
     "data": {
      "text/plain": [
       "array([[[  0.00000000e+00,   0.00000000e+00],\n",
       "        [  2.68021941e-01,   1.41977145e-01],\n",
       "        [  1.56810915e-03,   9.03817359e-01],\n",
       "        [  5.09427629e-02,   4.56219322e-03],\n",
       "        [  3.73711781e-01,   1.29168048e-01],\n",
       "        [  9.52897288e-01,   1.96870105e-01],\n",
       "        [  7.27394233e-01,   4.31971139e-01],\n",
       "        [  1.96632778e-01,   9.59902985e-05],\n",
       "        [  8.74478311e-01,   2.91843907e-01],\n",
       "        [  1.43148872e-01,   5.03556687e-05]],\n",
       "\n",
       "       [[  2.68021941e-01,   1.41977145e-01],\n",
       "        [  0.00000000e+00,   0.00000000e+00],\n",
       "        [  2.28588213e-01,   3.29354951e-01],\n",
       "        [  8.52659388e-02,   9.56383688e-02],\n",
       "        [  8.76308468e-03,   3.02724521e-04],\n",
       "        [  2.10182111e-01,   4.47586710e-03],\n",
       "        [  1.12336078e-01,   7.86502769e-02],\n",
       "        [  5.51683628e-03,   1.49456475e-01],\n",
       "        [  1.74245380e-01,   2.67084648e-02],\n",
       "        [  1.94206961e-02,   1.47375156e-01]]])"
      ]
     },
     "execution_count": 94,
     "metadata": {},
     "output_type": "execute_result"
    }
   ],
   "source": [
    "# square the coordinate differences\n",
    "sq_differences = differences ** 2\n",
    "print(sq_differences.shape)\n",
    "sq_differences[:2]\n",
    "# array stays the same size, values are just squared"
   ]
  },
  {
   "cell_type": "code",
   "execution_count": 95,
   "metadata": {},
   "outputs": [
    {
     "name": "stdout",
     "output_type": "stream",
     "text": [
      "(10, 10)\n",
      "[[ 0.     0.41   0.905  0.056  0.503  1.15   1.159  0.197  1.166  0.143]\n",
      " [ 0.41   0.     0.558  0.181  0.009  0.215  0.191  0.155  0.201  0.167]\n",
      " [ 0.905  0.558  0.     0.815  0.676  1.134  0.748  1.086  0.97   1.032]\n",
      " [ 0.056  0.181  0.815  0.     0.234  0.705  0.741  0.053  0.727  0.029]\n",
      " [ 0.503  0.009  0.676  0.234  0.     0.14   0.147  0.164  0.138  0.189]\n",
      " [ 1.15   0.215  1.134  0.705  0.14   0.     0.061  0.489  0.011  0.561]\n",
      " [ 1.159  0.191  0.748  0.741  0.147  0.061  0.     0.613  0.02   0.667]\n",
      " [ 0.197  0.155  1.086  0.053  0.164  0.489  0.613  0.     0.544  0.004]\n",
      " [ 1.166  0.201  0.97   0.727  0.138  0.011  0.02   0.544  0.     0.61 ]\n",
      " [ 0.143  0.167  1.032  0.029  0.189  0.561  0.667  0.004  0.61   0.   ]]\n"
     ]
    },
    {
     "data": {
      "text/plain": [
       "array([ 0.,  0.,  0.,  0.,  0.,  0.,  0.,  0.,  0.,  0.])"
      ]
     },
     "execution_count": 95,
     "metadata": {},
     "output_type": "execute_result"
    }
   ],
   "source": [
    "# sum the coordinate differences to get the squared distance\n",
    "# axis = -1.  From numpy.sum:\n",
    "# \"If axis is negative it counts from the last to the first axis.\"\n",
    "dist_sq = sq_differences.sum(-1)\n",
    "# so, it's summing the last 2 axes, resulting in a 10x10 2d array\n",
    "\n",
    "print(dist_sq.shape)\n",
    "\n",
    "# reduce printing precision to get array to fit\n",
    "np.set_printoptions(precision=3)\n",
    "print(dist_sq)\n",
    "\n",
    "# diagonal should be all zeroes\n",
    "dist_sq.diagonal()"
   ]
  },
  {
   "cell_type": "code",
   "execution_count": 96,
   "metadata": {},
   "outputs": [
    {
     "name": "stdout",
     "output_type": "stream",
     "text": [
      "[[0 3 9 7 1 4 2 5 6 8]\n",
      " [1 4 7 9 3 6 8 5 0 2]\n",
      " [2 1 4 6 3 0 8 9 7 5]\n",
      " [3 9 7 0 1 4 5 8 6 2]\n",
      " [4 1 8 5 6 7 9 3 0 2]\n",
      " [5 8 6 4 1 7 9 3 2 0]\n",
      " [6 8 5 4 1 7 9 3 2 0]\n",
      " [7 9 3 1 4 0 5 8 6 2]\n",
      " [8 5 6 4 1 7 9 3 2 0]\n",
      " [9 7 3 0 1 4 5 8 6 2]]\n"
     ]
    }
   ],
   "source": [
    "# we can use np.argsort to sort along each row\n",
    "nearest = np.argsort(dist_sq, axis=1)\n",
    "print(nearest)\n",
    "\n",
    "# the left most column reflects the 0 value on the diagonal, so we wnat the 2nd "
   ]
  },
  {
   "cell_type": "code",
   "execution_count": 97,
   "metadata": {},
   "outputs": [
    {
     "data": {
      "text/plain": [
       "array([[3, 0, 9, 7, 1, 4, 2, 5, 8, 6],\n",
       "       [1, 4, 7, 9, 3, 5, 6, 2, 8, 0],\n",
       "       [2, 1, 4, 6, 3, 0, 5, 7, 8, 9],\n",
       "       [3, 9, 7, 0, 1, 5, 6, 2, 8, 4],\n",
       "       [1, 8, 4, 5, 7, 6, 9, 3, 2, 0],\n",
       "       [5, 8, 6, 4, 1, 7, 9, 3, 2, 0],\n",
       "       [6, 8, 5, 4, 1, 7, 9, 3, 2, 0],\n",
       "       [7, 9, 3, 1, 4, 5, 6, 2, 8, 0],\n",
       "       [8, 5, 6, 4, 1, 7, 9, 3, 2, 0],\n",
       "       [3, 9, 7, 0, 1, 5, 6, 2, 8, 4]])"
      ]
     },
     "execution_count": 97,
     "metadata": {},
     "output_type": "execute_result"
    }
   ],
   "source": [
    "# instead of full sort, we can just get the 2 nearest neighbor (after itself)\n",
    "K = 2\n",
    "\n",
    "nearest_partition = np.argpartition(dist_sq, K + 1, axis=1)\n",
    "nearest_partition\n",
    "\n",
    "# so, the first 3 columns are the 3 nearest points (including the point itself)\n",
    "# though these seem to be in an arbitrary order"
   ]
  },
  {
   "cell_type": "code",
   "execution_count": 98,
   "metadata": {},
   "outputs": [
    {
     "data": {
      "image/png": "[encoded data removed]",
      "text/plain": [
       "<matplotlib.figure.Figure at 0x7f4aa0977dd8>"
      ]
     },
     "metadata": {},
     "output_type": "display_data"
    }
   ],
   "source": [
    "# draw lines from each point to its nearest neighbors\n",
    "\n",
    "for i in range(X.shape[0]):\n",
    "    for j in nearest_partition[i, :K+1]:\n",
    "        # plot a line from X[i] to X[j]\n",
    "        plt.plot(*zip(X[j], X[i]), color='black')\n",
    "plt.scatter(X[:, 0], X[:, 1], s=100);\n",
    "\n",
    "# the fact that the point itself is one of the 3 neighbors doesn't matter in this case"
   ]
  },
  {
   "cell_type": "markdown",
   "metadata": {},
   "source": [
    "# Structured Data"
   ]
  },
  {
   "cell_type": "code",
   "execution_count": 99,
   "metadata": {
    "collapsed": true
   },
   "outputs": [],
   "source": [
    "# set up data\n",
    "name = ['Alice', 'Bob', 'Cathy', 'Doug']\n",
    "age = [25, 45, 37, 19]\n",
    "weight = [55.0, 85.5, 68.0, 61.5]"
   ]
  },
  {
   "cell_type": "code",
   "execution_count": 100,
   "metadata": {},
   "outputs": [
    {
     "name": "stdout",
     "output_type": "stream",
     "text": [
      "[('name', '<U10'), ('age', '<i4'), ('weight', '<f8')]\n"
     ]
    }
   ],
   "source": [
    "# use compound data type for structured arrays\n",
    "data = np.zeros(4, dtype={'names':('name', 'age', 'weight'),\n",
    "                          'formats':('U10', 'i4', 'f8')})\n",
    "print(data.dtype)\n",
    "# U10 is unicode string, max 10 chars\n",
    "# i4 is 4-byte (32 bit) integer\n",
    "# f8 is 8-byte (64 bit) float"
   ]
  },
  {
   "cell_type": "code",
   "execution_count": 101,
   "metadata": {},
   "outputs": [
    {
     "name": "stdout",
     "output_type": "stream",
     "text": [
      "[('Alice', 25,  55. ) ('Bob', 45,  85.5) ('Cathy', 37,  68. )\n",
      " ('Doug', 19,  61.5)]\n"
     ]
    }
   ],
   "source": [
    "data['name'] = name\n",
    "data['age'] = age\n",
    "data['weight'] = weight\n",
    "print(data)"
   ]
  },
  {
   "cell_type": "code",
   "execution_count": 102,
   "metadata": {},
   "outputs": [
    {
     "data": {
      "text/plain": [
       "array(['Alice', 'Bob', 'Cathy', 'Doug'], \n",
       "      dtype='<U10')"
      ]
     },
     "execution_count": 102,
     "metadata": {},
     "output_type": "execute_result"
    }
   ],
   "source": [
    "# get all names\n",
    "data['name']"
   ]
  },
  {
   "cell_type": "code",
   "execution_count": 103,
   "metadata": {},
   "outputs": [
    {
     "data": {
      "text/plain": [
       "('Alice', 25,  55.)"
      ]
     },
     "execution_count": 103,
     "metadata": {},
     "output_type": "execute_result"
    }
   ],
   "source": [
    "# get first row of data\n",
    "data[0]"
   ]
  },
  {
   "cell_type": "code",
   "execution_count": 104,
   "metadata": {},
   "outputs": [
    {
     "data": {
      "text/plain": [
       "'Doug'"
      ]
     },
     "execution_count": 104,
     "metadata": {},
     "output_type": "execute_result"
    }
   ],
   "source": [
    "# get name from last row\n",
    "data[-1]['name']"
   ]
  },
  {
   "cell_type": "code",
   "execution_count": 105,
   "metadata": {},
   "outputs": [
    {
     "data": {
      "text/plain": [
       "array(['Alice', 'Doug'], \n",
       "      dtype='<U10')"
      ]
     },
     "execution_count": 105,
     "metadata": {},
     "output_type": "execute_result"
    }
   ],
   "source": [
    "# using a boolean mask, filter on age < 30\n",
    "data[data['age'] < 30]['name']"
   ]
  },
  {
   "cell_type": "code",
   "execution_count": 106,
   "metadata": {
    "collapsed": true
   },
   "outputs": [],
   "source": [
    "# creating structured arrays\n",
    "# details on formatting numpy arrays and data types on page 94-95"
   ]
  },
  {
   "cell_type": "code",
   "execution_count": 107,
   "metadata": {},
   "outputs": [
    {
     "data": {
      "text/plain": [
       "array([25, 45, 37, 19], dtype=int32)"
      ]
     },
     "execution_count": 107,
     "metadata": {},
     "output_type": "execute_result"
    }
   ],
   "source": [
    "# recordarray\n",
    "# another way to access values\n",
    "# simpler to code, but there's some processing overhead\n",
    "\n",
    "data_rec = data.view(np.recarray)\n",
    "data_rec.age"
   ]
  }
 ],
 "metadata": {
  "kernelspec": {
   "display_name": "Python 3",
   "language": "python",
   "name": "python3"
  },
  "language_info": {
   "codemirror_mode": {
    "name": "ipython",
    "version": 3
   },
   "file_extension": ".py",
   "mimetype": "text/x-python",
   "name": "python",
   "nbconvert_exporter": "python",
   "pygments_lexer": "ipython3",
   "version": "3.6.1"
  }
 },
 "nbformat": 4,
 "nbformat_minor": 2
}
